{
 "cells": [
  {
   "cell_type": "code",
   "execution_count": 1,
   "metadata": {},
   "outputs": [
    {
     "data": {
      "text/plain": [
       "b'my_playlist'"
      ]
     },
     "execution_count": 1,
     "metadata": {},
     "output_type": "execute_result"
    }
   ],
   "source": [
    "from playlist_wrapper import PyPlaylist\n",
    "\n",
    "my_playlist = PyPlaylist(b\"my_playlist\")\n",
    "my_playlist.name()"
   ]
  },
  {
   "cell_type": "code",
   "execution_count": 2,
   "metadata": {},
   "outputs": [],
   "source": [
    "def print_song(s):\n",
    "    print('================================================================')\n",
    "    print('song: {}\\nartist: {}\\nalbum: {}'.format(s.name.decode(), s.artist.decode(), s.album.decode()))"
   ]
  },
  {
   "cell_type": "code",
   "execution_count": 3,
   "metadata": {},
   "outputs": [
    {
     "name": "stdout",
     "output_type": "stream",
     "text": [
      "================================================================\n",
      "song: Best I Ever Had\n",
      "artist: Drake\n",
      "album: So Far Gone\r\n",
      "================================================================\n",
      "song: I'm Sprung\n",
      "artist: T-Pain\n",
      "album: Rappa Ternt Sanga\r\n",
      "================================================================\n",
      "song: Ms. Jackson\n",
      "artist: OutKast\n",
      "album: Stankonia\r\n",
      "================================================================\n",
      "song: 21 Questions\n",
      "artist: 50 Cent, Nate Dogg\n",
      "album: Get Rich Or Die Tryin'\r\n",
      "================================================================\n",
      "song: Better Together\n",
      "artist: Jack Johnson\n",
      "album: In Between Dreams\r\n",
      "================================================================\n",
      "song: Mr. Brightside\n",
      "artist: The Killers\n",
      "album: Hot Fuss\r\n",
      "================================================================\n",
      "song: How to Save a Life\n",
      "artist: The Fray\n",
      "album: How To Save A Life\n"
     ]
    }
   ],
   "source": [
    "playlist_songs = my_playlist.construct_from_file()\n",
    "\n",
    "for s in playlist_songs:\n",
    "    print_song(s)"
   ]
  },
  {
   "cell_type": "code",
   "execution_count": 4,
   "metadata": {},
   "outputs": [
    {
     "name": "stdout",
     "output_type": "stream",
     "text": [
      "================================================================\n",
      "song: How to Save a Life\n",
      "artist: The Fray\n",
      "album: How To Save A Life\n"
     ]
    }
   ],
   "source": [
    "song = my_playlist.song(6)\n",
    "print_song(s)"
   ]
  },
  {
   "cell_type": "code",
   "execution_count": 4,
   "metadata": {},
   "outputs": [
    {
     "data": {
      "text/plain": [
       "b'new_playlist'"
      ]
     },
     "execution_count": 4,
     "metadata": {},
     "output_type": "execute_result"
    }
   ],
   "source": [
    "my_playlist.set_name(b\"new_playlist\")\n",
    "my_playlist.name()"
   ]
  },
  {
   "cell_type": "code",
   "execution_count": 5,
   "metadata": {},
   "outputs": [
    {
     "data": {
      "text/plain": [
       "-1"
      ]
     },
     "execution_count": 5,
     "metadata": {},
     "output_type": "execute_result"
    }
   ],
   "source": [
    "my_playlist.song(8)"
   ]
  },
  {
   "cell_type": "code",
   "execution_count": 9,
   "metadata": {},
   "outputs": [
    {
     "data": {
      "text/plain": [
       "b''"
      ]
     },
     "execution_count": 9,
     "metadata": {},
     "output_type": "execute_result"
    }
   ],
   "source": [
    "from playlist_wrapper import PySong\n",
    "new_song = PySong()\n",
    "new_song.name\n",
    "#song = {'name': b'How Could You Leave Us', 'artist': b'NF', 'album': b'Therapy Session'}\n",
    "#my_playlist.add_song(song)"
   ]
  },
  {
   "cell_type": "code",
   "execution_count": 14,
   "metadata": {},
   "outputs": [
    {
     "data": {
      "text/plain": [
       "<playlist_wrapper.PySong at 0x7fe0e009fe40>"
      ]
     },
     "execution_count": 14,
     "metadata": {},
     "output_type": "execute_result"
    }
   ],
   "source": [
    "my_playlist.song(7)"
   ]
  },
  {
   "cell_type": "code",
   "execution_count": 7,
   "metadata": {},
   "outputs": [
    {
     "data": {
      "text/plain": [
       "7"
      ]
     },
     "execution_count": 7,
     "metadata": {},
     "output_type": "execute_result"
    }
   ],
   "source": [
    "my_playlist.size()"
   ]
  },
  {
   "cell_type": "code",
   "execution_count": 10,
   "metadata": {},
   "outputs": [
    {
     "data": {
      "text/plain": [
       "b'no name'"
      ]
     },
     "execution_count": 10,
     "metadata": {},
     "output_type": "execute_result"
    }
   ],
   "source": [
    "new_song.name = b\"no name\"\n",
    "new_song.name"
   ]
  },
  {
   "cell_type": "code",
   "execution_count": 11,
   "metadata": {},
   "outputs": [],
   "source": [
    "my_song = PySong(b\"No Name\", b\"Random Artist\", b\"Album 1\")"
   ]
  },
  {
   "cell_type": "code",
   "execution_count": 13,
   "metadata": {},
   "outputs": [
    {
     "data": {
      "text/plain": [
       "7"
      ]
     },
     "execution_count": 13,
     "metadata": {},
     "output_type": "execute_result"
    }
   ],
   "source": [
    "my_playlist.add_song(my_song)\n",
    "print_song(my_song)"
   ]
  },
  {
   "cell_type": "code",
   "execution_count": null,
   "metadata": {},
   "outputs": [],
   "source": []
  }
 ],
 "metadata": {
  "kernelspec": {
   "display_name": "Python 3",
   "language": "python",
   "name": "python3"
  },
  "language_info": {
   "codemirror_mode": {
    "name": "ipython",
    "version": 3
   },
   "file_extension": ".py",
   "mimetype": "text/x-python",
   "name": "python",
   "nbconvert_exporter": "python",
   "pygments_lexer": "ipython3",
   "version": "3.7.1"
  }
 },
 "nbformat": 4,
 "nbformat_minor": 2
}
